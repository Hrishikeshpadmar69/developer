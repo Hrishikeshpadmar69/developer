{
 "cells": [
  {
   "cell_type": "markdown",
   "id": "03b4071a",
   "metadata": {},
   "source": [
    "# LIST"
   ]
  },
  {
   "cell_type": "code",
   "execution_count": 6,
   "id": "61cef37e",
   "metadata": {},
   "outputs": [
    {
     "name": "stdout",
     "output_type": "stream",
     "text": [
      "List: [1, 2, 3, 4, 5]\n"
     ]
    }
   ],
   "source": [
    "# Creating a list\n",
    "my_list = [1, 2, 3, 4, 5]\n",
    "print(\"List:\", my_list)"
   ]
  },
  {
   "cell_type": "code",
   "execution_count": 7,
   "id": "a550e40e",
   "metadata": {},
   "outputs": [],
   "source": [
    "# Methods of list\n",
    "# Define a sample list\n",
    "my_list = [1, 2, 3, 4, 5]"
   ]
  },
  {
   "cell_type": "code",
   "execution_count": 8,
   "id": "cb5ceeeb",
   "metadata": {},
   "outputs": [
    {
     "name": "stdout",
     "output_type": "stream",
     "text": [
      "After append(6): [1, 2, 3, 4, 5, 6]\n"
     ]
    }
   ],
   "source": [
    "# Methods of list\n",
    "my_list.append(6)               # Method 1: append(x)\n",
    "print(\"After append(6):\", my_list)"
   ]
  },
  {
   "cell_type": "code",
   "execution_count": 9,
   "id": "2192a190",
   "metadata": {},
   "outputs": [
    {
     "name": "stdout",
     "output_type": "stream",
     "text": [
      "After clear(): []\n"
     ]
    }
   ],
   "source": [
    "my_list.clear()                 # Method 2: clear()\n",
    "print(\"After clear():\", my_list)"
   ]
  },
  {
   "cell_type": "code",
   "execution_count": 10,
   "id": "36e4a564",
   "metadata": {},
   "outputs": [
    {
     "name": "stdout",
     "output_type": "stream",
     "text": [
      "Copy of my_list: [1, 2, 3, 4, 5]\n"
     ]
    }
   ],
   "source": [
    "my_list = [1, 2, 3, 4, 5]       # Reinitialize the list\n",
    "new_list = my_list.copy()       # Method 3: copy()\n",
    "print(\"Copy of my_list:\", new_list)"
   ]
  },
  {
   "cell_type": "code",
   "execution_count": 11,
   "id": "5315208c",
   "metadata": {},
   "outputs": [
    {
     "name": "stdout",
     "output_type": "stream",
     "text": [
      "Count of 3 in my_list: 1\n"
     ]
    }
   ],
   "source": [
    "count = my_list.count(3)        # Method 4: count(x)\n",
    "print(\"Count of 3 in my_list:\", count)"
   ]
  },
  {
   "cell_type": "code",
   "execution_count": 12,
   "id": "68b29faf",
   "metadata": {},
   "outputs": [
    {
     "name": "stdout",
     "output_type": "stream",
     "text": [
      "After extend([6, 7, 8]): [1, 2, 3, 4, 5, 6, 7, 8]\n"
     ]
    }
   ],
   "source": [
    "my_list.extend([6, 7, 8])       # Method 5: extend(iterable)\n",
    "print(\"After extend([6, 7, 8]):\", my_list)"
   ]
  },
  {
   "cell_type": "code",
   "execution_count": 13,
   "id": "452e1de0",
   "metadata": {},
   "outputs": [
    {
     "name": "stdout",
     "output_type": "stream",
     "text": [
      "Index of 3 in my_list: 2\n"
     ]
    }
   ],
   "source": [
    "index = my_list.index(3)        # Method 6: index(x, start, end)\n",
    "print(\"Index of 3 in my_list:\", index)"
   ]
  },
  {
   "cell_type": "code",
   "execution_count": 14,
   "id": "a7363182",
   "metadata": {},
   "outputs": [
    {
     "name": "stdout",
     "output_type": "stream",
     "text": [
      "After insert(2, 10): [1, 2, 10, 3, 4, 5, 6, 7, 8]\n"
     ]
    }
   ],
   "source": [
    "my_list.insert(2, 10)           # Method 7: insert(i, x)\n",
    "print(\"After insert(2, 10):\", my_list)"
   ]
  },
  {
   "cell_type": "code",
   "execution_count": 15,
   "id": "7e80a1fb",
   "metadata": {},
   "outputs": [
    {
     "name": "stdout",
     "output_type": "stream",
     "text": [
      "Popped element at index 3: 3\n",
      "After pop(3): [1, 2, 10, 4, 5, 6, 7, 8]\n"
     ]
    }
   ],
   "source": [
    "popped_element = my_list.pop(3) # Method 8: pop(i)\n",
    "print(\"Popped element at index 3:\", popped_element)\n",
    "print(\"After pop(3):\", my_list)"
   ]
  },
  {
   "cell_type": "code",
   "execution_count": 16,
   "id": "dacb3a44",
   "metadata": {},
   "outputs": [
    {
     "name": "stdout",
     "output_type": "stream",
     "text": [
      "After remove(10): [1, 2, 4, 5, 6, 7, 8]\n"
     ]
    }
   ],
   "source": [
    "my_list.remove(10)              # Method 9: remove(x)\n",
    "print(\"After remove(10):\", my_list)"
   ]
  },
  {
   "cell_type": "code",
   "execution_count": 17,
   "id": "fa103a67",
   "metadata": {},
   "outputs": [
    {
     "name": "stdout",
     "output_type": "stream",
     "text": [
      "After reverse(): [8, 7, 6, 5, 4, 2, 1]\n"
     ]
    }
   ],
   "source": [
    "my_list.reverse()               # Method 10: reverse()\n",
    "print(\"After reverse():\", my_list)"
   ]
  },
  {
   "cell_type": "code",
   "execution_count": 18,
   "id": "d0dfe123",
   "metadata": {},
   "outputs": [
    {
     "name": "stdout",
     "output_type": "stream",
     "text": [
      "After sort(): [1, 2, 4, 5, 6, 7, 8]\n"
     ]
    }
   ],
   "source": [
    "my_list.sort()                  # Method 11: sort()\n",
    "print(\"After sort():\", my_list)"
   ]
  },
  {
   "cell_type": "markdown",
   "id": "981239ff",
   "metadata": {},
   "source": [
    "# DICTIONARY "
   ]
  },
  {
   "cell_type": "code",
   "execution_count": 19,
   "id": "fabe7ef4",
   "metadata": {},
   "outputs": [
    {
     "name": "stdout",
     "output_type": "stream",
     "text": [
      "Dictionary: {'apple': 3, 'banana': 5, 'orange': 2}\n"
     ]
    }
   ],
   "source": [
    "# Creating a dictionary\n",
    "my_dict = {'apple': 3, 'banana': 5, 'orange': 2}\n",
    "print(\"Dictionary:\", my_dict)"
   ]
  },
  {
   "cell_type": "code",
   "execution_count": 53,
   "id": "99c087ef",
   "metadata": {},
   "outputs": [
    {
     "name": "stdout",
     "output_type": "stream",
     "text": [
      "After clear: {}\n"
     ]
    }
   ],
   "source": [
    "# 1. clear()\n",
    "my_dict.clear()\n",
    "print(\"After clear:\", my_dict)"
   ]
  },
  {
   "cell_type": "code",
   "execution_count": 55,
   "id": "15fe3ed2",
   "metadata": {},
   "outputs": [
    {
     "name": "stdout",
     "output_type": "stream",
     "text": [
      "{'apple': 3, 'banana': 5, 'orange': 2}\n"
     ]
    }
   ],
   "source": [
    "# Reset the dictionary\n",
    "my_dict = {'apple': 3, 'banana': 5, 'orange': 2}\n",
    "print(my_dict)"
   ]
  },
  {
   "cell_type": "code",
   "execution_count": 56,
   "id": "67535902",
   "metadata": {},
   "outputs": [
    {
     "name": "stdout",
     "output_type": "stream",
     "text": [
      "Copy: {'apple': 3, 'banana': 5, 'orange': 2}\n"
     ]
    }
   ],
   "source": [
    "# 2. copy()\n",
    "dict_copy = my_dict.copy()\n",
    "print(\"Copy:\", dict_copy)"
   ]
  },
  {
   "cell_type": "code",
   "execution_count": 57,
   "id": "5ced44dc",
   "metadata": {},
   "outputs": [
    {
     "name": "stdout",
     "output_type": "stream",
     "text": [
      "Fromkeys: {'grape': 0, 'kiwi': 0, 'melon': 0}\n"
     ]
    }
   ],
   "source": [
    "# 3. fromkeys()\n",
    "new_dict = dict.fromkeys(['grape', 'kiwi', 'melon'], 0)\n",
    "print(\"Fromkeys:\", new_dict)"
   ]
  },
  {
   "cell_type": "code",
   "execution_count": 58,
   "id": "1e1a77bc",
   "metadata": {},
   "outputs": [
    {
     "name": "stdout",
     "output_type": "stream",
     "text": [
      "Get: 3\n"
     ]
    }
   ],
   "source": [
    "# 4. get()\n",
    "print(\"Get:\", my_dict.get('apple'))"
   ]
  },
  {
   "cell_type": "code",
   "execution_count": 26,
   "id": "98b7fc76",
   "metadata": {},
   "outputs": [
    {
     "name": "stdout",
     "output_type": "stream",
     "text": [
      "Items: dict_items([('apple', 3), ('banana', 5), ('orange', 2)])\n"
     ]
    }
   ],
   "source": [
    "# 5. items()\n",
    "print(\"Items:\", my_dict.items())"
   ]
  },
  {
   "cell_type": "code",
   "execution_count": 27,
   "id": "0ed48e54",
   "metadata": {},
   "outputs": [
    {
     "name": "stdout",
     "output_type": "stream",
     "text": [
      "Keys: dict_keys(['apple', 'banana', 'orange'])\n"
     ]
    }
   ],
   "source": [
    "# 6. keys()\n",
    "print(\"Keys:\", my_dict.keys())"
   ]
  },
  {
   "cell_type": "code",
   "execution_count": 28,
   "id": "fd8c791b",
   "metadata": {},
   "outputs": [
    {
     "name": "stdout",
     "output_type": "stream",
     "text": [
      "Pop: 5\n"
     ]
    }
   ],
   "source": [
    "# 7. pop()\n",
    "print(\"Pop:\", my_dict.pop('banana'))"
   ]
  },
  {
   "cell_type": "code",
   "execution_count": 29,
   "id": "204ffb4e",
   "metadata": {},
   "outputs": [
    {
     "name": "stdout",
     "output_type": "stream",
     "text": [
      "Popitem: ('orange', 2)\n"
     ]
    }
   ],
   "source": [
    "# 8. popitem()\n",
    "print(\"Popitem:\", my_dict.popitem())"
   ]
  },
  {
   "cell_type": "code",
   "execution_count": 30,
   "id": "e1767b2d",
   "metadata": {},
   "outputs": [
    {
     "name": "stdout",
     "output_type": "stream",
     "text": [
      "Setdefault: 0\n"
     ]
    }
   ],
   "source": [
    "# 9. setdefault()\n",
    "print(\"Setdefault:\", my_dict.setdefault('banana', 0))"
   ]
  },
  {
   "cell_type": "code",
   "execution_count": 31,
   "id": "b405b8ef",
   "metadata": {},
   "outputs": [
    {
     "name": "stdout",
     "output_type": "stream",
     "text": [
      "Update: {'apple': 3, 'banana': 0, 'pear': 4}\n"
     ]
    }
   ],
   "source": [
    "# 10. update()\n",
    "my_dict.update({'pear': 4})\n",
    "print(\"Update:\", my_dict)"
   ]
  },
  {
   "cell_type": "code",
   "execution_count": 32,
   "id": "a4315a9f",
   "metadata": {},
   "outputs": [
    {
     "name": "stdout",
     "output_type": "stream",
     "text": [
      "Values: dict_values([3, 0, 4])\n"
     ]
    }
   ],
   "source": [
    "# 11. values()\n",
    "print(\"Values:\", my_dict.values())"
   ]
  },
  {
   "cell_type": "markdown",
   "id": "e8ab7ac7",
   "metadata": {},
   "source": [
    "# SET"
   ]
  },
  {
   "cell_type": "code",
   "execution_count": 68,
   "id": "229648a6",
   "metadata": {},
   "outputs": [
    {
     "name": "stdout",
     "output_type": "stream",
     "text": [
      "Set: {1, 2, 3, 4, 5}\n"
     ]
    }
   ],
   "source": [
    "# Creating a set\n",
    "my_set = {1, 2, 3, 4, 5}\n",
    "print(\"Set:\", my_set)"
   ]
  },
  {
   "cell_type": "code",
   "execution_count": 51,
   "id": "5add1077",
   "metadata": {},
   "outputs": [],
   "source": [
    "# Add an element to the set\n",
    "my_set.add(4)"
   ]
  },
  {
   "cell_type": "code",
   "execution_count": 52,
   "id": "33798f02",
   "metadata": {},
   "outputs": [
    {
     "name": "stdout",
     "output_type": "stream",
     "text": [
      "{1, 2, 4, 5}\n"
     ]
    }
   ],
   "source": [
    "# Remove an element from the set\n",
    "my_set.remove(3)\n",
    "print(my_set)"
   ]
  },
  {
   "cell_type": "code",
   "execution_count": 59,
   "id": "7b4c49e3",
   "metadata": {},
   "outputs": [],
   "source": [
    "# Clear all elements from the set\n",
    "my_set.clear()"
   ]
  },
  {
   "cell_type": "code",
   "execution_count": 66,
   "id": "7601a5d9",
   "metadata": {},
   "outputs": [],
   "source": [
    "# Create a second set\n",
    "other_set = {3, 4, 5}"
   ]
  },
  {
   "cell_type": "code",
   "execution_count": 63,
   "id": "a7f0f0e9",
   "metadata": {},
   "outputs": [
    {
     "name": "stdout",
     "output_type": "stream",
     "text": [
      "{3, 4, 5}\n"
     ]
    }
   ],
   "source": [
    "# Union of two sets\n",
    "union_set = my_set.union(other_set)\n",
    "print(union_set)"
   ]
  },
  {
   "cell_type": "code",
   "execution_count": 67,
   "id": "f7b2930f",
   "metadata": {},
   "outputs": [
    {
     "name": "stdout",
     "output_type": "stream",
     "text": [
      "set()\n"
     ]
    }
   ],
   "source": [
    "# Intersection of two sets\n",
    "intersection_set = my_set.intersection(other_set)\n",
    "print(intersection_set)"
   ]
  },
  {
   "cell_type": "code",
   "execution_count": 40,
   "id": "bd560a3a",
   "metadata": {},
   "outputs": [],
   "source": [
    "# Difference between two sets\n",
    "difference_set = my_set.difference(other_set)"
   ]
  },
  {
   "cell_type": "code",
   "execution_count": 41,
   "id": "d5d9d9cf",
   "metadata": {},
   "outputs": [],
   "source": [
    "# Symmetric difference between two sets\n",
    "symmetric_difference_set = my_set.symmetric_difference(other_set)"
   ]
  },
  {
   "cell_type": "code",
   "execution_count": 42,
   "id": "6ba95a71",
   "metadata": {},
   "outputs": [],
   "source": [
    "# Check if a set is a subset of another set\n",
    "is_subset = my_set.issubset(other_set)"
   ]
  },
  {
   "cell_type": "code",
   "execution_count": 43,
   "id": "677ec7e8",
   "metadata": {},
   "outputs": [],
   "source": [
    "# Check if a set is a superset of another set\n",
    "is_superset = my_set.issuperset(other_set)"
   ]
  },
  {
   "cell_type": "code",
   "execution_count": 44,
   "id": "e4278a4d",
   "metadata": {},
   "outputs": [],
   "source": [
    "# Check if two sets have any common elements\n",
    "has_common_elements = my_set.isdisjoint(other_set)"
   ]
  },
  {
   "cell_type": "code",
   "execution_count": 45,
   "id": "db0bc1a0",
   "metadata": {},
   "outputs": [],
   "source": [
    "# Discard an element from the set\n",
    "my_set.discard(2)"
   ]
  },
  {
   "cell_type": "code",
   "execution_count": 69,
   "id": "7a2dd733",
   "metadata": {},
   "outputs": [],
   "source": [
    "# Pop an arbitrary element from the set\n",
    "popped_element = my_set.pop()\n",
    "# it will not ru as set is empty"
   ]
  },
  {
   "cell_type": "code",
   "execution_count": 47,
   "id": "ae9383cb",
   "metadata": {},
   "outputs": [],
   "source": [
    "# Return the length of the set\n",
    "length_of_set = len(my_set)"
   ]
  },
  {
   "cell_type": "code",
   "execution_count": null,
   "id": "6f5e0172",
   "metadata": {},
   "outputs": [],
   "source": [
    "# Convert the set to a frozenset\n",
    "frozen_set = frozenset(my_set)"
   ]
  },
  {
   "cell_type": "code",
   "execution_count": null,
   "id": "ad6feec5",
   "metadata": {},
   "outputs": [],
   "source": [
    "# LIST\n",
    "\n",
    "# Creating a list\n",
    "my_list = [1, 2, 3, 4, 5]\n",
    "print(\"List:\", my_list)\n",
    "\n",
    "# Methods of list\n",
    "# Define a sample list\n",
    "my_list = [1, 2, 3, 4, 5]\n",
    "\n",
    "# Methods of list\n",
    "my_list.append(6)               # Method 1: append(x)\n",
    "print(\"After append(6):\", my_list)\n",
    "\n",
    "my_list.clear()                 # Method 2: clear()\n",
    "print(\"After clear():\", my_list)\n",
    "\n",
    "my_list = [1, 2, 3, 4, 5]       # Reinitialize the list\n",
    "new_list = my_list.copy()       # Method 3: copy()\n",
    "print(\"Copy of my_list:\", new_list)\n",
    "\n",
    "count = my_list.count(3)        # Method 4: count(x)\n",
    "print(\"Count of 3 in my_list:\", count)\n",
    "\n",
    "my_list.extend([6, 7, 8])       # Method 5: extend(iterable)\n",
    "print(\"After extend([6, 7, 8]):\", my_list)\n",
    "\n",
    "index = my_list.index(3)        # Method 6: index(x, start, end)\n",
    "print(\"Index of 3 in my_list:\", index)\n",
    "\n",
    "my_list.insert(2, 10)           # Method 7: insert(i, x)\n",
    "print(\"After insert(2, 10):\", my_list)\n",
    "\n",
    "popped_element = my_list.pop(3) # Method 8: pop(i)\n",
    "print(\"Popped element at index 3:\", popped_element)\n",
    "print(\"After pop(3):\", my_list)\n",
    "\n",
    "my_list.remove(10)              # Method 9: remove(x)\n",
    "print(\"After remove(10):\", my_list)\n",
    "\n",
    "my_list.reverse()               # Method 10: reverse()\n",
    "print(\"After reverse():\", my_list)\n",
    "\n",
    "my_list.sort()                  # Method 11: sort()\n",
    "print(\"After sort():\", my_list)\n",
    "\n",
    "# DICTIONARY \n",
    "\n",
    "# Creating a dictionary\n",
    "my_dict = {'apple': 3, 'banana': 5, 'orange': 2}\n",
    "print(\"Dictionary:\", my_dict)\n",
    "\n",
    "# 1. clear()\n",
    "my_dict.clear()\n",
    "print(\"After clear:\", my_dict)\n",
    "\n",
    "# Reset the dictionary\n",
    "my_dict = {'apple': 3, 'banana': 5, 'orange': 2}\n",
    "print(my_dict)\n",
    "\n",
    "# 2. copy()\n",
    "dict_copy = my_dict.copy()\n",
    "print(\"Copy:\", dict_copy)\n",
    "\n",
    "# 3. fromkeys()\n",
    "new_dict = dict.fromkeys(['grape', 'kiwi', 'melon'], 0)\n",
    "print(\"Fromkeys:\", new_dict)\n",
    "\n",
    "# 4. get()\n",
    "print(\"Get:\", my_dict.get('apple'))\n",
    "\n",
    "# 5. items()\n",
    "print(\"Items:\", my_dict.items())\n",
    "\n",
    "# 6. keys()\n",
    "print(\"Keys:\", my_dict.keys())\n",
    "\n",
    "# 7. pop()\n",
    "print(\"Pop:\", my_dict.pop('banana'))\n",
    "\n",
    "# 8. popitem()\n",
    "print(\"Popitem:\", my_dict.popitem())\n",
    "\n",
    "# 9. setdefault()\n",
    "print(\"Setdefault:\", my_dict.setdefault('banana', 0))\n",
    "\n",
    "# 10. update()\n",
    "my_dict.update({'pear': 4})\n",
    "print(\"Update:\", my_dict)\n",
    "\n",
    "# 11. values()\n",
    "print(\"Values:\", my_dict.values())\n",
    "\n",
    "# SET\n",
    "\n",
    "# Creating a set\n",
    "my_set = {1, 2, 3, 4, 5}\n",
    "print(\"Set:\", my_set)\n",
    "\n",
    "# Add an element to the set\n",
    "my_set.add(4)\n",
    "\n",
    "# Remove an element from the set\n",
    "my_set.remove(3)\n",
    "print(my_set)\n",
    "\n",
    "# Clear all elements from the set\n",
    "my_set.clear()\n",
    "\n",
    "# Create a second set\n",
    "other_set = {3, 4, 5}\n",
    "\n",
    "# Union of two sets\n",
    "union_set = my_set.union(other_set)\n",
    "print(union_set)\n",
    "\n",
    "# Intersection of two sets\n",
    "intersection_set = my_set.intersection(other_set)\n",
    "print(intersection_set)\n",
    "\n",
    "# Difference between two sets\n",
    "difference_set = my_set.difference(other_set)\n",
    "\n",
    "# Symmetric difference between two sets\n",
    "symmetric_difference_set = my_set.symmetric_difference(other_set)\n",
    "\n",
    "# Check if a set is a subset of another set\n",
    "is_subset = my_set.issubset(other_set)\n",
    "\n",
    "# Check if a set is a superset of another set\n",
    "is_superset = my_set.issuperset(other_set)\n",
    "\n",
    "# Check if two sets have any common elements\n",
    "has_common_elements = my_set.isdisjoint(other_set)\n",
    "\n",
    "# Discard an element from the set\n",
    "my_set.discard(2)\n",
    "\n",
    "# Pop an arbitrary element from the set\n",
    "popped_element = my_set.pop()\n",
    "# it will not ru as set is empty\n",
    "\n",
    "# Return the length of the set\n",
    "length_of_set = len(my_set)\n",
    "\n",
    "# Convert the set to a frozenset\n",
    "frozen_set = frozenset(my_set)"
   ]
  }
 ],
 "metadata": {
  "kernelspec": {
   "display_name": "Python 3 (ipykernel)",
   "language": "python",
   "name": "python3"
  },
  "language_info": {
   "codemirror_mode": {
    "name": "ipython",
    "version": 3
   },
   "file_extension": ".py",
   "mimetype": "text/x-python",
   "name": "python",
   "nbconvert_exporter": "python",
   "pygments_lexer": "ipython3",
   "version": "3.11.5"
  }
 },
 "nbformat": 4,
 "nbformat_minor": 5
}
